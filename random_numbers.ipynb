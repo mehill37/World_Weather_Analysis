{
 "cells": [
  {
   "cell_type": "code",
   "execution_count": 1,
   "id": "1f0c3650",
   "metadata": {},
   "outputs": [],
   "source": [
    "# Import the NumPy module.\n",
    "import numpy as np"
   ]
  },
  {
   "cell_type": "code",
   "execution_count": 3,
   "id": "bd6079a7",
   "metadata": {},
   "outputs": [
    {
     "data": {
      "text/plain": [
       "-44.283941011529876"
      ]
     },
     "execution_count": 3,
     "metadata": {},
     "output_type": "execute_result"
    }
   ],
   "source": [
    "np.random.uniform(low=-90, high=90)"
   ]
  },
  {
   "cell_type": "code",
   "execution_count": 5,
   "id": "9a7a940f",
   "metadata": {},
   "outputs": [
    {
     "data": {
      "text/plain": [
       "array([-89.54641157,  67.54548674, -14.43481887,  36.27281894,\n",
       "        80.90803172,  87.60862522, -69.2524119 ,  38.6873061 ,\n",
       "         2.02060413, -57.41044003, -29.20208143, -69.74140636,\n",
       "        32.88299532, -61.40262748,  86.26418793,  41.72921658,\n",
       "        89.82334962,  20.9746858 ,  40.55305684,  43.53123128,\n",
       "        46.70806175,  -4.2208621 ,  30.10668737,  47.40024384,\n",
       "       -54.40598621, -32.60209066, -86.5571856 ,  44.30656928,\n",
       "        43.24168069, -86.51141617, -68.36756264,  85.35639692,\n",
       "        51.54400721,  -7.94782681, -77.22140303,  -6.56499856,\n",
       "       -73.35497225,  63.79070144,  32.33664073,  73.97968727,\n",
       "       -79.46553815,  29.94095666,  43.16791081,  51.37138663,\n",
       "        64.06842358, -39.84426437, -64.24913408,  58.03741905,\n",
       "       -64.63277387,  25.81069383])"
      ]
     },
     "execution_count": 5,
     "metadata": {},
     "output_type": "execute_result"
    }
   ],
   "source": [
    "np.random.uniform(-90.000, 90.000, size=50)"
   ]
  },
  {
   "cell_type": "code",
   "execution_count": 6,
   "id": "34c6bc7e",
   "metadata": {},
   "outputs": [],
   "source": [
    "# Import timeit.\n",
    "import timeit"
   ]
  },
  {
   "cell_type": "code",
   "execution_count": null,
   "id": "c624f16e",
   "metadata": {},
   "outputs": [],
   "source": []
  }
 ],
 "metadata": {
  "kernelspec": {
   "display_name": "Python 3 (ipykernel)",
   "language": "python",
   "name": "python3"
  },
  "language_info": {
   "codemirror_mode": {
    "name": "ipython",
    "version": 3
   },
   "file_extension": ".py",
   "mimetype": "text/x-python",
   "name": "python",
   "nbconvert_exporter": "python",
   "pygments_lexer": "ipython3",
   "version": "3.7.15"
  }
 },
 "nbformat": 4,
 "nbformat_minor": 5
}
